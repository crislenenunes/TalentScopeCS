{
  "nbformat": 4,
  "nbformat_minor": 0,
  "metadata": {
    "colab": {
      "provenance": [],
      "authorship_tag": "ABX9TyM5RdzzpjbcYZc1sflPgTrG",
      "include_colab_link": true
    },
    "kernelspec": {
      "name": "python3",
      "display_name": "Python 3"
    },
    "language_info": {
      "name": "python"
    }
  },
  "cells": [
    {
      "cell_type": "markdown",
      "metadata": {
        "id": "view-in-github",
        "colab_type": "text"
      },
      "source": [
        "<a href=\"https://colab.research.google.com/github/crislenenunes/TalentScopeCS/blob/main/TalentScope_CS.ipynb\" target=\"_parent\"><img src=\"https://colab.research.google.com/assets/colab-badge.svg\" alt=\"Open In Colab\"/></a>"
      ]
    },
    {
      "cell_type": "markdown",
      "source": [
        "##Gerarando Banco de Dados\n",
        "\n",
        "Ao executar esse código, é gerado um arquivo .csv para treinar o modelo.\n",
        "\n"
      ],
      "metadata": {
        "id": "4mEl4ELLOvEK"
      }
    },
    {
      "cell_type": "code",
      "execution_count": 114,
      "metadata": {
        "colab": {
          "base_uri": "https://localhost:8080/",
          "height": 72
        },
        "id": "Uhzzal_zMP6n",
        "outputId": "e83a1af3-fdcc-4764-bdf7-f21b26607510"
      },
      "outputs": [
        {
          "output_type": "display_data",
          "data": {
            "text/plain": [
              "<IPython.core.display.Javascript object>"
            ],
            "application/javascript": [
              "\n",
              "    async function download(id, filename, size) {\n",
              "      if (!google.colab.kernel.accessAllowed) {\n",
              "        return;\n",
              "      }\n",
              "      const div = document.createElement('div');\n",
              "      const label = document.createElement('label');\n",
              "      label.textContent = `Downloading \"${filename}\": `;\n",
              "      div.appendChild(label);\n",
              "      const progress = document.createElement('progress');\n",
              "      progress.max = size;\n",
              "      div.appendChild(progress);\n",
              "      document.body.appendChild(div);\n",
              "\n",
              "      const buffers = [];\n",
              "      let downloaded = 0;\n",
              "\n",
              "      const channel = await google.colab.kernel.comms.open(id);\n",
              "      // Send a message to notify the kernel that we're ready.\n",
              "      channel.send({})\n",
              "\n",
              "      for await (const message of channel.messages) {\n",
              "        // Send a message to notify the kernel that we're ready.\n",
              "        channel.send({})\n",
              "        if (message.buffers) {\n",
              "          for (const buffer of message.buffers) {\n",
              "            buffers.push(buffer);\n",
              "            downloaded += buffer.byteLength;\n",
              "            progress.value = downloaded;\n",
              "          }\n",
              "        }\n",
              "      }\n",
              "      const blob = new Blob(buffers, {type: 'application/binary'});\n",
              "      const a = document.createElement('a');\n",
              "      a.href = window.URL.createObjectURL(blob);\n",
              "      a.download = filename;\n",
              "      div.appendChild(a);\n",
              "      a.click();\n",
              "      div.remove();\n",
              "    }\n",
              "  "
            ]
          },
          "metadata": {}
        },
        {
          "output_type": "display_data",
          "data": {
            "text/plain": [
              "<IPython.core.display.Javascript object>"
            ],
            "application/javascript": [
              "download(\"download_dcf7ff71-3c0b-4440-959b-b70f5953267c\", \"candidatos_estagio_cs.csv\", 12465)"
            ]
          },
          "metadata": {}
        },
        {
          "output_type": "stream",
          "name": "stdout",
          "text": [
            "✅ CSV gerado com sucesso!\n",
            "Total de candidatos: 200\n",
            "Candidatos aderentes: 85 (42.5%)\n"
          ]
        }
      ],
      "source": [
        "import pandas as pd\n",
        "import numpy as np\n",
        "from google.colab import files\n",
        "\n",
        "# Configuração\n",
        "np.random.seed(42)\n",
        "n_candidatos = 200\n",
        "\n",
        "# Gerar nomes realistas\n",
        "nomes = []\n",
        "for i in range(1, n_candidatos+1):\n",
        "    primeiro_nome = np.random.choice(['João', 'Maria', 'Carlos', 'Ana', 'Pedro', 'Juliana', 'Lucas', 'Fernanda'])\n",
        "    sobrenome = np.random.choice(['Silva', 'Souza', 'Oliveira', 'Santos', 'Costa', 'Lima', 'Pereira', 'Rocha'])\n",
        "    nomes.append(f\"{primeiro_nome} {sobrenome}\")\n",
        "\n",
        "# Gerar dados\n",
        "data = {\n",
        "    'id': range(1, n_candidatos+1),\n",
        "    'nome': nomes,\n",
        "    'tempo_experiencia': np.random.randint(0, 25, n_candidatos),\n",
        "    'conhecimento_crm': np.random.choice([1,2,3,4,5], n_candidatos, p=[0.1,0.2,0.3,0.25,0.15]),\n",
        "    'ingles': np.random.choice([1,2,3,4,5], n_candidatos, p=[0.05,0.15,0.3,0.3,0.2]),\n",
        "    'graduacao': np.random.choice([\"Cursando\", \"Completo\"], n_candidatos, p=[0.6,0.4]),\n",
        "    'cursos_extras': np.random.choice([\n",
        "        \"\", \"CRM Básico\", \"Salesforce\", \"Zendesk\", \"HubSpot\",\n",
        "        \"Salesforce,Zendesk\", \"CRM Avançado\", \"Atendimento ao Cliente\"\n",
        "    ], n_candidatos, p=[0.3,0.2,0.15,0.1,0.1,0.05,0.05,0.05]),\n",
        "    'soft_skills': np.random.choice([\n",
        "        \"\", \"comunicação\", \"empatia\", \"organização\",\n",
        "        \"proatividade\", \"trabalho em equipe\", \"resolução problemas\",\n",
        "        \"comunicação,empatia\", \"organização,proatividade\"\n",
        "    ], n_candidatos),\n",
        "    'aderente': 0\n",
        "}\n",
        "\n",
        "df = pd.DataFrame(data)\n",
        "\n",
        "# Calcular aderência com regras mais realistas\n",
        "df['aderente'] = (\n",
        "    (df['tempo_experiencia'] >= np.random.randint(4, 8)) &  # Mínimo entre 4-7 meses\n",
        "    (df['conhecimento_crm'] >= np.random.randint(2, 4)) &   # Mínimo entre 2-3\n",
        "    (df['ingles'] >= np.random.randint(2, 4)) &             # Mínimo entre 2-3\n",
        "    (np.random.random(n_candidatos) > 0.2)                  # 20% de ruído\n",
        ").astype(int)\n",
        "\n",
        "# Ajustar formatação\n",
        "df['cursos_extras'] = df['cursos_extras'].replace('', 'Nenhum')\n",
        "df['soft_skills'] = df['soft_skills'].replace('', 'Nenhuma')\n",
        "\n",
        "# Salvar CSV\n",
        "df.to_csv('candidatos_estagio_cs.csv', index=False, encoding='utf-8-sig')\n",
        "\n",
        "# Download automático\n",
        "files.download('candidatos_estagio_cs.csv')\n",
        "\n",
        "print(\"✅ CSV gerado com sucesso!\")\n",
        "print(f\"Total de candidatos: {len(df)}\")\n",
        "print(f\"Candidatos aderentes: {df['aderente'].sum()} ({df['aderente'].mean():.1%})\")"
      ]
    },
    {
      "cell_type": "markdown",
      "source": [
        "##1. Instalando as bibliotecas"
      ],
      "metadata": {
        "id": "eVvU1LUUPLU2"
      }
    },
    {
      "cell_type": "code",
      "source": [
        "!pip install PyPDF2 gradio scikit-learn pandas numpy\n",
        "from google.colab import drive\n",
        "drive.mount('/content/drive')"
      ],
      "metadata": {
        "colab": {
          "base_uri": "https://localhost:8080/"
        },
        "id": "rD0lqC-wM4uV",
        "outputId": "c4b686b3-1eef-471d-fb88-398cd4c0b094"
      },
      "execution_count": 115,
      "outputs": [
        {
          "output_type": "stream",
          "name": "stdout",
          "text": [
            "Requirement already satisfied: PyPDF2 in /usr/local/lib/python3.11/dist-packages (3.0.1)\n",
            "Requirement already satisfied: gradio in /usr/local/lib/python3.11/dist-packages (5.25.2)\n",
            "Requirement already satisfied: scikit-learn in /usr/local/lib/python3.11/dist-packages (1.6.1)\n",
            "Requirement already satisfied: pandas in /usr/local/lib/python3.11/dist-packages (2.2.2)\n",
            "Requirement already satisfied: numpy in /usr/local/lib/python3.11/dist-packages (2.0.2)\n",
            "Requirement already satisfied: aiofiles<25.0,>=22.0 in /usr/local/lib/python3.11/dist-packages (from gradio) (24.1.0)\n",
            "Requirement already satisfied: anyio<5.0,>=3.0 in /usr/local/lib/python3.11/dist-packages (from gradio) (4.9.0)\n",
            "Requirement already satisfied: fastapi<1.0,>=0.115.2 in /usr/local/lib/python3.11/dist-packages (from gradio) (0.115.12)\n",
            "Requirement already satisfied: ffmpy in /usr/local/lib/python3.11/dist-packages (from gradio) (0.5.0)\n",
            "Requirement already satisfied: gradio-client==1.8.0 in /usr/local/lib/python3.11/dist-packages (from gradio) (1.8.0)\n",
            "Requirement already satisfied: groovy~=0.1 in /usr/local/lib/python3.11/dist-packages (from gradio) (0.1.2)\n",
            "Requirement already satisfied: httpx>=0.24.1 in /usr/local/lib/python3.11/dist-packages (from gradio) (0.28.1)\n",
            "Requirement already satisfied: huggingface-hub>=0.28.1 in /usr/local/lib/python3.11/dist-packages (from gradio) (0.30.2)\n",
            "Requirement already satisfied: jinja2<4.0 in /usr/local/lib/python3.11/dist-packages (from gradio) (3.1.6)\n",
            "Requirement already satisfied: markupsafe<4.0,>=2.0 in /usr/local/lib/python3.11/dist-packages (from gradio) (3.0.2)\n",
            "Requirement already satisfied: orjson~=3.0 in /usr/local/lib/python3.11/dist-packages (from gradio) (3.10.16)\n",
            "Requirement already satisfied: packaging in /usr/local/lib/python3.11/dist-packages (from gradio) (24.2)\n",
            "Requirement already satisfied: pillow<12.0,>=8.0 in /usr/local/lib/python3.11/dist-packages (from gradio) (11.1.0)\n",
            "Requirement already satisfied: pydantic<2.12,>=2.0 in /usr/local/lib/python3.11/dist-packages (from gradio) (2.11.3)\n",
            "Requirement already satisfied: pydub in /usr/local/lib/python3.11/dist-packages (from gradio) (0.25.1)\n",
            "Requirement already satisfied: python-multipart>=0.0.18 in /usr/local/lib/python3.11/dist-packages (from gradio) (0.0.20)\n",
            "Requirement already satisfied: pyyaml<7.0,>=5.0 in /usr/local/lib/python3.11/dist-packages (from gradio) (6.0.2)\n",
            "Requirement already satisfied: ruff>=0.9.3 in /usr/local/lib/python3.11/dist-packages (from gradio) (0.11.6)\n",
            "Requirement already satisfied: safehttpx<0.2.0,>=0.1.6 in /usr/local/lib/python3.11/dist-packages (from gradio) (0.1.6)\n",
            "Requirement already satisfied: semantic-version~=2.0 in /usr/local/lib/python3.11/dist-packages (from gradio) (2.10.0)\n",
            "Requirement already satisfied: starlette<1.0,>=0.40.0 in /usr/local/lib/python3.11/dist-packages (from gradio) (0.46.2)\n",
            "Requirement already satisfied: tomlkit<0.14.0,>=0.12.0 in /usr/local/lib/python3.11/dist-packages (from gradio) (0.13.2)\n",
            "Requirement already satisfied: typer<1.0,>=0.12 in /usr/local/lib/python3.11/dist-packages (from gradio) (0.15.2)\n",
            "Requirement already satisfied: typing-extensions~=4.0 in /usr/local/lib/python3.11/dist-packages (from gradio) (4.13.2)\n",
            "Requirement already satisfied: uvicorn>=0.14.0 in /usr/local/lib/python3.11/dist-packages (from gradio) (0.34.2)\n",
            "Requirement already satisfied: fsspec in /usr/local/lib/python3.11/dist-packages (from gradio-client==1.8.0->gradio) (2025.3.2)\n",
            "Requirement already satisfied: websockets<16.0,>=10.0 in /usr/local/lib/python3.11/dist-packages (from gradio-client==1.8.0->gradio) (15.0.1)\n",
            "Requirement already satisfied: scipy>=1.6.0 in /usr/local/lib/python3.11/dist-packages (from scikit-learn) (1.14.1)\n",
            "Requirement already satisfied: joblib>=1.2.0 in /usr/local/lib/python3.11/dist-packages (from scikit-learn) (1.4.2)\n",
            "Requirement already satisfied: threadpoolctl>=3.1.0 in /usr/local/lib/python3.11/dist-packages (from scikit-learn) (3.6.0)\n",
            "Requirement already satisfied: python-dateutil>=2.8.2 in /usr/local/lib/python3.11/dist-packages (from pandas) (2.8.2)\n",
            "Requirement already satisfied: pytz>=2020.1 in /usr/local/lib/python3.11/dist-packages (from pandas) (2025.2)\n",
            "Requirement already satisfied: tzdata>=2022.7 in /usr/local/lib/python3.11/dist-packages (from pandas) (2025.2)\n",
            "Requirement already satisfied: idna>=2.8 in /usr/local/lib/python3.11/dist-packages (from anyio<5.0,>=3.0->gradio) (3.10)\n",
            "Requirement already satisfied: sniffio>=1.1 in /usr/local/lib/python3.11/dist-packages (from anyio<5.0,>=3.0->gradio) (1.3.1)\n",
            "Requirement already satisfied: certifi in /usr/local/lib/python3.11/dist-packages (from httpx>=0.24.1->gradio) (2025.1.31)\n",
            "Requirement already satisfied: httpcore==1.* in /usr/local/lib/python3.11/dist-packages (from httpx>=0.24.1->gradio) (1.0.8)\n",
            "Requirement already satisfied: h11<0.15,>=0.13 in /usr/local/lib/python3.11/dist-packages (from httpcore==1.*->httpx>=0.24.1->gradio) (0.14.0)\n",
            "Requirement already satisfied: filelock in /usr/local/lib/python3.11/dist-packages (from huggingface-hub>=0.28.1->gradio) (3.18.0)\n",
            "Requirement already satisfied: requests in /usr/local/lib/python3.11/dist-packages (from huggingface-hub>=0.28.1->gradio) (2.32.3)\n",
            "Requirement already satisfied: tqdm>=4.42.1 in /usr/local/lib/python3.11/dist-packages (from huggingface-hub>=0.28.1->gradio) (4.67.1)\n",
            "Requirement already satisfied: annotated-types>=0.6.0 in /usr/local/lib/python3.11/dist-packages (from pydantic<2.12,>=2.0->gradio) (0.7.0)\n",
            "Requirement already satisfied: pydantic-core==2.33.1 in /usr/local/lib/python3.11/dist-packages (from pydantic<2.12,>=2.0->gradio) (2.33.1)\n",
            "Requirement already satisfied: typing-inspection>=0.4.0 in /usr/local/lib/python3.11/dist-packages (from pydantic<2.12,>=2.0->gradio) (0.4.0)\n",
            "Requirement already satisfied: six>=1.5 in /usr/local/lib/python3.11/dist-packages (from python-dateutil>=2.8.2->pandas) (1.17.0)\n",
            "Requirement already satisfied: click>=8.0.0 in /usr/local/lib/python3.11/dist-packages (from typer<1.0,>=0.12->gradio) (8.1.8)\n",
            "Requirement already satisfied: shellingham>=1.3.0 in /usr/local/lib/python3.11/dist-packages (from typer<1.0,>=0.12->gradio) (1.5.4)\n",
            "Requirement already satisfied: rich>=10.11.0 in /usr/local/lib/python3.11/dist-packages (from typer<1.0,>=0.12->gradio) (13.9.4)\n",
            "Requirement already satisfied: markdown-it-py>=2.2.0 in /usr/local/lib/python3.11/dist-packages (from rich>=10.11.0->typer<1.0,>=0.12->gradio) (3.0.0)\n",
            "Requirement already satisfied: pygments<3.0.0,>=2.13.0 in /usr/local/lib/python3.11/dist-packages (from rich>=10.11.0->typer<1.0,>=0.12->gradio) (2.18.0)\n",
            "Requirement already satisfied: charset-normalizer<4,>=2 in /usr/local/lib/python3.11/dist-packages (from requests->huggingface-hub>=0.28.1->gradio) (3.4.1)\n",
            "Requirement already satisfied: urllib3<3,>=1.21.1 in /usr/local/lib/python3.11/dist-packages (from requests->huggingface-hub>=0.28.1->gradio) (2.3.0)\n",
            "Requirement already satisfied: mdurl~=0.1 in /usr/local/lib/python3.11/dist-packages (from markdown-it-py>=2.2.0->rich>=10.11.0->typer<1.0,>=0.12->gradio) (0.1.2)\n",
            "Drive already mounted at /content/drive; to attempt to forcibly remount, call drive.mount(\"/content/drive\", force_remount=True).\n"
          ]
        }
      ]
    },
    {
      "cell_type": "markdown",
      "source": [
        "##2. Configuração Inicial"
      ],
      "metadata": {
        "id": "1llg-fEiPUrO"
      }
    },
    {
      "cell_type": "code",
      "source": [
        "import pandas as pd\n",
        "import numpy as np\n",
        "import gradio as gr\n",
        "from sklearn.tree import DecisionTreeClassifier\n",
        "from sklearn.model_selection import train_test_split\n",
        "from joblib import dump, load\n",
        "from PyPDF2 import PdfReader\n",
        "import io\n",
        "import matplotlib.pyplot as plt\n",
        "from google.colab import drive\n",
        "from sklearn.metrics import confusion_matrix, ConfusionMatrixDisplay, classification_report"
      ],
      "metadata": {
        "id": "ap_8xMkyXIDP"
      },
      "execution_count": 116,
      "outputs": []
    },
    {
      "cell_type": "markdown",
      "source": [
        "##3. Montando o Google Drive"
      ],
      "metadata": {
        "id": "MW_nWiE9Phcs"
      }
    },
    {
      "cell_type": "code",
      "source": [
        "drive.mount('/content/drive')"
      ],
      "metadata": {
        "colab": {
          "base_uri": "https://localhost:8080/"
        },
        "id": "6tfeR9dIPpAf",
        "outputId": "91e762f2-ec85-4ea0-d01f-26a6c81a813e"
      },
      "execution_count": 117,
      "outputs": [
        {
          "output_type": "stream",
          "name": "stdout",
          "text": [
            "Drive already mounted at /content/drive; to attempt to forcibly remount, call drive.mount(\"/content/drive\", force_remount=True).\n"
          ]
        }
      ]
    },
    {
      "cell_type": "markdown",
      "source": [
        "##4. Carregando os dados"
      ],
      "metadata": {
        "id": "1GPaoNFOPpyS"
      }
    },
    {
      "cell_type": "code",
      "source": [
        "df = pd.read_csv('/content/drive/MyDrive/Colab Notebooks/candidatos_estagio_cs.csv')\n",
        "print(\"CSV carregado do Google Drive\")\n",
        "print(df)"
      ],
      "metadata": {
        "colab": {
          "base_uri": "https://localhost:8080/"
        },
        "id": "F-bRDUi3P7be",
        "outputId": "75fa265c-a9c1-4359-db8b-4d126ad71ad6"
      },
      "execution_count": 118,
      "outputs": [
        {
          "output_type": "stream",
          "name": "stdout",
          "text": [
            "CSV carregado do Google Drive\n",
            "      id            nome  tempo_experiencia  conhecimento_crm  ingles  \\\n",
            "0      1    Lucas Santos                 20                 4       2   \n",
            "1      2   Pedro Pereira                 22                 4       5   \n",
            "2      3    Carlos Rocha                  0                 1       2   \n",
            "3      4     Pedro Costa                  2                 3       4   \n",
            "4      5     Lucas Souza                 17                 1       3   \n",
            "..   ...             ...                ...               ...     ...   \n",
            "245  246  Fernanda Costa                 24                 2       3   \n",
            "246  247       João Lima                 19                 2       3   \n",
            "247  248   Pedro Pereira                 20                 2       5   \n",
            "248  249   Carlos Santos                  3                 2       4   \n",
            "249  250     João Santos                 20                 2       2   \n",
            "\n",
            "    graduacao cursos_extras  aderente  \n",
            "0    Completo    Salesforce         1  \n",
            "1    Cursando           NaN         1  \n",
            "2    Completo           NaN         0  \n",
            "3    Completo           NaN         0  \n",
            "4    Cursando    CRM Básico         0  \n",
            "..        ...           ...       ...  \n",
            "245  Completo    CRM Básico         1  \n",
            "246  Completo       Zendesk         1  \n",
            "247  Cursando    CRM Básico         1  \n",
            "248  Cursando       Zendesk         0  \n",
            "249  Cursando    CRM Básico         1  \n",
            "\n",
            "[250 rows x 8 columns]\n"
          ]
        }
      ]
    },
    {
      "cell_type": "markdown",
      "source": [
        "##5. Pré-processamento"
      ],
      "metadata": {
        "id": "J7DGXEXQQaap"
      }
    },
    {
      "cell_type": "code",
      "source": [
        "##5. Pré-processamento\n",
        "\n",
        "def preprocess_data(df):\n",
        "    # Cria uma cópia explícita para evitar warnings\n",
        "    df_clean = df.copy()\n",
        "\n",
        "    # 1. Converter graduação para numérico (forma segura)\n",
        "    df_clean['graduacao'] = df_clean['graduacao'].map({'Cursando': 1, 'Completo': 0})\n",
        "\n",
        "    # 2. Verificar e tratar valores nulos (forma atualizada)\n",
        "    null_counts = df_clean.isnull().sum()\n",
        "\n",
        "    if null_counts.any():\n",
        "        print(\"\\n Valores nulos encontrados:\")\n",
        "        print(null_counts[null_counts > 0])\n",
        "\n",
        "        for col in null_counts[null_counts > 0].index:\n",
        "            if df_clean[col].dtype in ['int64', 'float64']:\n",
        "                # Forma recomendada para preenchimento\n",
        "                median_val = df_clean[col].median()\n",
        "                print(f\"Preenchendo {col} com mediana: {median_val}\")\n",
        "                df_clean[col] = df_clean[col].fillna(median_val)  # ← Método seguro\n",
        "            else:\n",
        "                # Forma recomendada para preenchimento\n",
        "                mode_val = df_clean[col].mode()[0]\n",
        "                print(f\"Preenchendo {col} com moda: {mode_val}\")\n",
        "                df_clean[col] = df_clean[col].fillna(mode_val)  # ← Método seguro\n",
        "    else:\n",
        "        print(\"\\n Nenhum valor nulo encontrado.\")\n",
        "\n",
        "    return df_clean\n",
        "\n",
        "df_clean = preprocess_data(df)  # Atribuição correta"
      ],
      "metadata": {
        "colab": {
          "base_uri": "https://localhost:8080/"
        },
        "id": "F8gyw-KpiC0R",
        "outputId": "6cda5836-31ce-40a5-9d15-b281394bfb77"
      },
      "execution_count": 119,
      "outputs": [
        {
          "output_type": "stream",
          "name": "stdout",
          "text": [
            "\n",
            " Valores nulos encontrados:\n",
            "cursos_extras    46\n",
            "dtype: int64\n",
            "Preenchendo cursos_extras com moda: Zendesk\n"
          ]
        }
      ]
    },
    {
      "cell_type": "markdown",
      "source": [
        "##6. Divisão dos dados"
      ],
      "metadata": {
        "id": "WOFjeeQIdWno"
      }
    },
    {
      "cell_type": "code",
      "source": [
        "X = df_clean[['tempo_experiencia', 'conhecimento_crm', 'ingles', 'graduacao']]\n",
        "y = df_clean['aderente']\n",
        "\n",
        "X_train, X_test, y_train, y_test = train_test_split(\n",
        "    X, y,\n",
        "    test_size=0.2,\n",
        "    random_state=42,\n",
        "    stratify=y  # Manter proporção das classes\n",
        ")"
      ],
      "metadata": {
        "id": "vI0vLhGOdaY5"
      },
      "execution_count": 120,
      "outputs": []
    },
    {
      "cell_type": "markdown",
      "source": [
        "##7. Treinando o modelo"
      ],
      "metadata": {
        "id": "7bvnypo9VPGi"
      }
    },
    {
      "cell_type": "code",
      "source": [
        "model = DecisionTreeClassifier(\n",
        "    max_depth=4,\n",
        "    min_samples_split=5,\n",
        "    class_weight='balanced',\n",
        "    random_state=42\n",
        ")\n",
        "\n",
        "model.fit(X_train, y_train)\n",
        "print(\"\\n Modelo treinado com sucesso!\")"
      ],
      "metadata": {
        "colab": {
          "base_uri": "https://localhost:8080/"
        },
        "id": "bLLy_2RGQhni",
        "outputId": "d12f059d-41a1-4d79-f3ae-e8a91f98ba15"
      },
      "execution_count": 121,
      "outputs": [
        {
          "output_type": "stream",
          "name": "stdout",
          "text": [
            "\n",
            " Modelo treinado com sucesso!\n"
          ]
        }
      ]
    },
    {
      "cell_type": "markdown",
      "source": [
        "##8. Avaliacação do modelo"
      ],
      "metadata": {
        "id": "M12TKXwsYwww"
      }
    },
    {
      "cell_type": "code",
      "source": [
        "def evaluate_model(model, X_test, y_test):\n",
        "    # Previsões\n",
        "    y_pred = model.predict(X_test)\n",
        "\n",
        "    # 1. Matriz de Confusão\n",
        "    plt.figure(figsize=(8,6))\n",
        "    cm = confusion_matrix(y_test, y_pred)\n",
        "    disp = ConfusionMatrixDisplay(confusion_matrix=cm, display_labels=['Não', 'Sim'])\n",
        "    disp.plot(cmap='Blues')\n",
        "    plt.title('Matriz de Confusão', pad=20)\n",
        "    plt.show()\n",
        "\n",
        "    # 2. Relatório de Classificação\n",
        "    print(\"\\n📊 Relatório de Classificação:\")\n",
        "    print(classification_report(y_test, y_pred, target_names=['Não Aderente', 'Aderente']))\n",
        "\n",
        "    # 3. Importância das Features\n",
        "    plt.figure(figsize=(10,5))\n",
        "    plt.barh(X.columns, model.feature_importances_)\n",
        "    plt.title('Importância das Características')\n",
        "    plt.show()\n",
        "\n",
        "evaluate_model(model, X_test, y_test)"
      ],
      "metadata": {
        "colab": {
          "base_uri": "https://localhost:8080/",
          "height": 1000
        },
        "id": "8CeA4ee3Yzmq",
        "outputId": "676227be-4f54-453b-bb9d-0e085bc84f7c"
      },
      "execution_count": 122,
      "outputs": [
        {
          "output_type": "display_data",
          "data": {
            "text/plain": [
              "<Figure size 800x600 with 0 Axes>"
            ]
          },
          "metadata": {}
        },
        {
          "output_type": "display_data",
          "data": {
            "text/plain": [
              "<Figure size 640x480 with 2 Axes>"
            ],
            "image/png": "[encoded data removed]"
          },
          "metadata": {}
        },
        {
          "output_type": "stream",
          "name": "stdout",
          "text": [
            "\n",
            "📊 Relatório de Classificação:\n",
            "              precision    recall  f1-score   support\n",
            "\n",
            "Não Aderente       1.00      1.00      1.00        17\n",
            "    Aderente       1.00      1.00      1.00        33\n",
            "\n",
            "    accuracy                           1.00        50\n",
            "   macro avg       1.00      1.00      1.00        50\n",
            "weighted avg       1.00      1.00      1.00        50\n",
            "\n"
          ]
        },
        {
          "output_type": "display_data",
          "data": {
            "text/plain": [
              "<Figure size 1000x500 with 1 Axes>"
            ],
            "image/png": "[encoded data removed]"
          },
          "metadata": {}
        }
      ]
    },
    {
      "cell_type": "markdown",
      "source": [
        "##9. Salvando o modelo"
      ],
      "metadata": {
        "id": "1Sc3XrbLRg7B"
      }
    },
    {
      "cell_type": "code",
      "source": [
        "dump(model, '/content/drive/MyDrive/Colab Notebooks/modelo_estagio_cs.joblib')\n",
        "print(\"\\n Modelo salvo no Google Drive\")"
      ],
      "metadata": {
        "colab": {
          "base_uri": "https://localhost:8080/"
        },
        "id": "XXDNf283Rnht",
        "outputId": "8f059cb4-b659-40cf-ff59-0714891d0ee0"
      },
      "execution_count": 123,
      "outputs": [
        {
          "output_type": "stream",
          "name": "stdout",
          "text": [
            "\n",
            " Modelo salvo no Google Drive\n"
          ]
        }
      ]
    },
    {
      "cell_type": "markdown",
      "source": [
        "##10. Criando a interface Gradio"
      ],
      "metadata": {
        "id": "HLGQWdRXRz9L"
      }
    },
    {
      "cell_type": "code",
      "source": [
        "##10. Criando a interface Gradio\n",
        "\n",
        "def predict_aderencia(tempo_exp, conhecimento_crm, ingles, graduacao, curriculo_input):\n",
        "    # Processar currículo (PDF ou texto)\n",
        "    resume_text = \"\"\n",
        "    if curriculo_input is not None:\n",
        "        if isinstance(curriculo_input, str):  # Texto direto\n",
        "            resume_text = curriculo_input\n",
        "        else:  # Arquivo PDF\n",
        "            resume_text = extract_text_from_pdf(curriculo_input)\n",
        "\n",
        "    # Analisar currículo\n",
        "    resume_analysis = analyze_resume_content(resume_text)\n",
        "\n",
        "    # Preparar inputs para o modelo\n",
        "    input_data = np.array([[\n",
        "        tempo_exp,\n",
        "        conhecimento_crm,\n",
        "        ingles,\n",
        "        1 if graduacao == \"Cursando\" else 0\n",
        "    ]])\n",
        "\n",
        "    # Fazer previsão\n",
        "    proba = model.predict_proba(input_data)[0][1] * 100\n",
        "    proba_ajustada = min(100, proba + resume_analysis['pontuacao'] * 3)  # Bônus de até 30%\n",
        "\n",
        "    # Gerar feedback\n",
        "    return {\n",
        "        \"Probabilidade Base\": f\"{proba:.1f}%\",\n",
        "        \"Bônus do Currículo\": f\"+{resume_analysis['pontuacao'] * 3:.1f}%\",\n",
        "        \"Probabilidade Final\": f\"{proba_ajustada:.1f}%\",\n",
        "        \"Status\": \"✅ Aderente\" if proba_ajustada >= 70 else \"❌ Não Aderente\",\n",
        "        \"Palavras-chave Encontradas\": resume_analysis['keywords'] or \"Nenhuma relevante\",\n",
        "        \"Dica Currículo\": \"✔️ Ótimo!\" if resume_analysis['pontuacao'] >= 5 else \"✖️ Adicione mais termos como 'CRM' ou 'Customer Success'\"\n",
        "    }\n",
        "\n",
        "with gr.Blocks(title=\"Analisador CS com Currículo\") as app:\n",
        "    gr.Markdown(\"# 📄 Analisador para Estágio em Customer Success\")\n",
        "\n",
        "    with gr.Row():\n",
        "        with gr.Column():\n",
        "            # Inputs principais\n",
        "            tempo_exp = gr.Slider(label=\"Tempo de Experiência (meses)\", minimum=0, maximum=24)\n",
        "            conhecimento_crm = gr.Slider(label=\"Conhecimento de CRM (1-5)\", minimum=1, maximum=5)\n",
        "            ingles = gr.Slider(label=\"Nível de Inglês (1-5)\", minimum=1, maximum=5)\n",
        "            graduacao = gr.Radio(label=\"Graduação\", choices=[\"Cursando\", \"Completo\"])\n",
        "\n",
        "            # Upload de currículo\n",
        "            gr.Markdown(\"## 📎 Anexar Currículo\")\n",
        "            with gr.Tab(\"Upload PDF\"):\n",
        "                pdf_input = gr.File(label=\"Envie seu PDF\", file_types=[\".pdf\"])\n",
        "            with gr.Tab(\"Texto Direto\"):\n",
        "                text_input = gr.Textbox(label=\"Cole seu currículo aqui\", lines=5)\n",
        "\n",
        "            analyze_btn = gr.Button(\"Analisar\", variant=\"primary\")\n",
        "\n",
        "        with gr.Column():\n",
        "            gr.Markdown(\"## 📊 Resultado Completo\")\n",
        "            output = gr.JSON(label=\"Análise\")\n",
        "\n",
        "    # Lógica de análise\n",
        "    analyze_btn.click(\n",
        "        fn=predict_aderencia,\n",
        "        inputs=[tempo_exp, conhecimento_crm, ingles, graduacao, pdf_input],\n",
        "        outputs=output\n",
        "    )\n",
        "\n",
        "    # Alternar entre PDF e texto\n",
        "    text_input.change(\n",
        "        fn=lambda text: None if text else gr.File(),\n",
        "        inputs=text_input,\n",
        "        outputs=pdf_input\n",
        "    )\n",
        "\n",
        "\n",
        "app.launch()"
      ],
      "metadata": {
        "colab": {
          "base_uri": "https://localhost:8080/",
          "height": 650
        },
        "id": "B75IocB4eSVW",
        "outputId": "4d03bb17-9798-4d6c-8e17-d5e41e693248"
      },
      "execution_count": 125,
      "outputs": [
        {
          "output_type": "stream",
          "name": "stdout",
          "text": [
            "It looks like you are running Gradio on a hosted a Jupyter notebook. For the Gradio app to work, sharing must be enabled. Automatically setting `share=True` (you can turn this off by setting `share=False` in `launch()` explicitly).\n",
            "\n",
            "Colab notebook detected. To show errors in colab notebook, set debug=True in launch()\n",
            "* Running on public URL: https://31f1dac5dbffd24006.gradio.live\n",
            "\n",
            "This share link expires in 1 week. For free permanent hosting and GPU upgrades, run `gradio deploy` from the terminal in the working directory to deploy to Hugging Face Spaces (https://huggingface.co/spaces)\n"
          ]
        },
        {
          "output_type": "display_data",
          "data": {
            "text/plain": [
              "<IPython.core.display.HTML object>"
            ],
            "text/html": [
              "<div><iframe src=\"https://31f1dac5dbffd24006.gradio.live\" width=\"100%\" height=\"500\" allow=\"autoplay; camera; microphone; clipboard-read; clipboard-write;\" frameborder=\"0\" allowfullscreen></iframe></div>"
            ]
          },
          "metadata": {}
        },
        {
          "output_type": "execute_result",
          "data": {
            "text/plain": []
          },
          "metadata": {},
          "execution_count": 125
        }
      ]
    },
    {
      "cell_type": "markdown",
      "source": [
        "## 11. Gerando o arquivo do modelo para o Hugging Face"
      ],
      "metadata": {
        "id": "zZfNgPu6mtgf"
      }
    },
    {
      "cell_type": "code",
      "source": [
        "##7. Treinando o modelo\n",
        "model = DecisionTreeClassifier(\n",
        "    max_depth=4,\n",
        "    min_samples_split=5,\n",
        "    class_weight='balanced',\n",
        "    random_state=42\n",
        ")\n",
        "model.fit(X_train, y_train)\n",
        "\n",
        "## Gerar arquivo .joblib\n",
        "from joblib import dump\n",
        "dump(model, 'modelo_estagio_cs.joblib')\n",
        "\n",
        "## Download automático\n",
        "from google.colab import files\n",
        "files.download('modelo_estagio_cs.joblib')"
      ],
      "metadata": {
        "colab": {
          "base_uri": "https://localhost:8080/",
          "height": 17
        },
        "id": "wWjuMKULlng4",
        "outputId": "59d27be3-1a8f-4832-c596-d5fce79019ce"
      },
      "execution_count": 126,
      "outputs": [
        {
          "output_type": "display_data",
          "data": {
            "text/plain": [
              "<IPython.core.display.Javascript object>"
            ],
            "application/javascript": [
              "\n",
              "    async function download(id, filename, size) {\n",
              "      if (!google.colab.kernel.accessAllowed) {\n",
              "        return;\n",
              "      }\n",
              "      const div = document.createElement('div');\n",
              "      const label = document.createElement('label');\n",
              "      label.textContent = `Downloading \"${filename}\": `;\n",
              "      div.appendChild(label);\n",
              "      const progress = document.createElement('progress');\n",
              "      progress.max = size;\n",
              "      div.appendChild(progress);\n",
              "      document.body.appendChild(div);\n",
              "\n",
              "      const buffers = [];\n",
              "      let downloaded = 0;\n",
              "\n",
              "      const channel = await google.colab.kernel.comms.open(id);\n",
              "      // Send a message to notify the kernel that we're ready.\n",
              "      channel.send({})\n",
              "\n",
              "      for await (const message of channel.messages) {\n",
              "        // Send a message to notify the kernel that we're ready.\n",
              "        channel.send({})\n",
              "        if (message.buffers) {\n",
              "          for (const buffer of message.buffers) {\n",
              "            buffers.push(buffer);\n",
              "            downloaded += buffer.byteLength;\n",
              "            progress.value = downloaded;\n",
              "          }\n",
              "        }\n",
              "      }\n",
              "      const blob = new Blob(buffers, {type: 'application/binary'});\n",
              "      const a = document.createElement('a');\n",
              "      a.href = window.URL.createObjectURL(blob);\n",
              "      a.download = filename;\n",
              "      div.appendChild(a);\n",
              "      a.click();\n",
              "      div.remove();\n",
              "    }\n",
              "  "
            ]
          },
          "metadata": {}
        },
        {
          "output_type": "display_data",
          "data": {
            "text/plain": [
              "<IPython.core.display.Javascript object>"
            ],
            "application/javascript": [
              "download(\"download_d278b9e6-6094-4635-ad4e-a13727233cec\", \"modelo_estagio_cs.joblib\", 2249)"
            ]
          },
          "metadata": {}
        }
      ]
    }
  ]
}